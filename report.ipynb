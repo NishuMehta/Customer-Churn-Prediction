{
 "cells": [
  {
   "cell_type": "markdown",
   "metadata": {},
   "source": [
    "## Customer Churn Prediction Report\n",
    "\n",
    "\n",
    "#### Objective\n",
    "The objective of this project was to predict customer churn for a subscription-based service. The goal was to build a model that effectively identifies customers likely to leave and provides insights into the key factors driving churn.\n",
    "\n",
    "#### Data Preprocessing\n",
    "- Dropped Irrelevant Columns: RowNumber, CustomerId, and Surname.\n",
    "- Encoded Categorical Features to ensure numerical values for modeling.\n",
    "- Handled Missing Values by imputing with the median.\n",
    "- Scaled Numeric Features (CreditScore, Age, Tenure, Balance, EstimatedSalary) for improved model performance.\n",
    "\n",
    "#### Model Performance\n",
    "\n",
    "- Logistic Regression\t\n",
    "    - Accuracy 0.8115\t\n",
    "    - ROC-AUC Score 0.5809\n",
    "- Random Forest\t\n",
    "    - Accuracy 0.8675\t\n",
    "    - ROC-AUC Score 0.7205\n",
    "- XGBoost\t\n",
    "    - Accuracy 0.8630\t\n",
    "    - ROC-AUC Score 0.7234\n",
    "- SVM\t\n",
    "    - Accuracy 0.8535\t\n",
    "    - ROC-AUC Score 0.6637\n",
    "\n",
    "#### **Selected Model: Random Forest (Best performance in accuracy and ROC-AUC score).**\n",
    "\n",
    "#### Key Insights from Feature Importance\n",
    "- Age had the highest influence on churn.\n",
    "- Number of Products and Balance were also key contributors.\n",
    "- Estimated Salary, Credit Score, Tenure, and IsActiveMember showed moderate impact.\n",
    "\n",
    "#### Visual Insights\n",
    "- Churn Distribution by Age: Older customers showed higher churn rates.\n",
    "- Churn by Number of Products: Customers with 3+ products had a significant increase in churn.\n",
    "- Churn Distribution by Balance: Higher balances were linked to lower churn rates.\n",
    "\n"
   ]
  },
  {
   "cell_type": "markdown",
   "metadata": {},
   "source": []
  }
 ],
 "metadata": {
  "language_info": {
   "name": "python"
  }
 },
 "nbformat": 4,
 "nbformat_minor": 2
}
